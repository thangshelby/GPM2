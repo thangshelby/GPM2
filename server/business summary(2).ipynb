{
 "cells": [
  {
   "cell_type": "code",
   "execution_count": 1,
   "id": "3d78da4e-1a92-46eb-b545-ecb3d2c5bf3b",
   "metadata": {},
   "outputs": [],
   "source": [
    "import pandas as pd\n",
    "import numpy as np\n",
    "from vnstock import Vnstock"
   ]
  },
  {
   "cell_type": "code",
   "execution_count": 3,
   "id": "e10c30ce-c4d3-4567-b61a-0cda5ec613a9",
   "metadata": {},
   "outputs": [],
   "source": [
    "# Load danh sách mã cổ phiếu từ file Excel\n",
    "excel_file = r\"C:\\Users\\User\\Downloads\\merged_stocks.xlsx\"\n",
    "symbol_df = pd.read_excel(excel_file)\n",
    "\n",
    "# Chuyển đổi cột \"Mã\" thành danh sách mã chứng khoán\n",
    "symbol_list = symbol_df[\"Mã\"].tolist()"
   ]
  },
  {
   "cell_type": "code",
   "execution_count": 45,
   "id": "e11ff2a4-6348-4f0b-bd5a-ec0582dd0352",
   "metadata": {},
   "outputs": [],
   "source": [
    "# Hàm lấy dữ liệu chứng khoán từ Vnstock\n",
    "def get_stock_data(symbol, start_date=\"2020-01-01\", end_date=\"2024-12-31\"):\n",
    "    stock = Vnstock().stock(symbol=symbol, source=\"VCI\")\n",
    "    df = stock.quote.history(start=start_date, end=end_date, interval=\"1D\")\n",
    "    if df is not None and not df.empty:\n",
    "        df[\"time\"] = pd.to_datetime(df[\"time\"])  # Sửa từ \"date\" thành \"time\"\n",
    "        return df, stock\n",
    "    return None, None\n"
   ]
  },
  {
   "cell_type": "code",
   "execution_count": 105,
   "id": "33c435a4-362c-4557-b968-4d39680035ea",
   "metadata": {},
   "outputs": [],
   "source": [
    "\n",
    "# Hàm lấy dữ liệu tài chính từ finance.ratio()\n",
    "def get_finance_data(stock, symbol, date):\n",
    "    finance_data = stock.finance.ratio()\n",
    "    if finance_data.empty:\n",
    "        return np.nan, np.nan, np.nan\n",
    "    \n",
    "    year = date.year\n",
    "    quarter = (date.month - 1) // 3 + 1  # Xác định quý từ tháng\n",
    "    \n",
    "    finance_filtered = finance_data[\n",
    "        (finance_data[(\"Meta\", \"ticker\")] == symbol) &\n",
    "        (finance_data[(\"Meta\", \"yearReport\")] == year) &\n",
    "        (finance_data[(\"Meta\", \"lengthReport\")] == quarter)\n",
    "    ]\n",
    "    \n",
    "    if finance_filtered.empty:\n",
    "        return np.nan, np.nan, np.nan\n",
    "    \n",
    "    shares_outstanding = finance_filtered.get((\"Chỉ tiêu định giá\", \"Outstanding Share (Mil. Shares)\"), np.nan).values[-1]\n",
    "    pe_ttm = finance_filtered.get((\"Chỉ tiêu định giá\", \"P/E\"), np.nan).values[-1]\n",
    "    dividend_yield = finance_filtered.get((\"Chỉ tiêu khả năng sinh lợi\", \"Dividend yield (%)\"), np.nan).values[-1]\n",
    "    \n",
    "    return shares_outstanding, pe_ttm, dividend_yield\n"
   ]
  },
  {
   "cell_type": "code",
   "execution_count": null,
   "id": "825e0ce6-66e5-44c4-aea8-7d20b01ae9c1",
   "metadata": {},
   "outputs": [],
   "source": [
    "# Hàm tính toán các chỉ số chứng khoán\n",
    "def calculate_stock_metrics(symbol, date):\n",
    "    df, stock = get_stock_data(symbol)\n",
    "    if df is None or df.empty:\n",
    "        return None\n",
    "\n",
    "    df = df[df[\"time\"] <= date]\n",
    "    if df.empty:\n",
    "        return None\n",
    "    \n",
    "    shares_outstanding, pe_ttm, dividend_yield = get_finance_data(stock, symbol, date)\n",
    "    \n",
    "    df_52wk = df[df[\"time\"] >= (date - pd.Timedelta(days=365))]\n",
    "    high_52wk = df_52wk[\"high\"].max() if not df_52wk.empty else np.nan\n",
    "    low_52wk = df_52wk[\"low\"].min() if not df_52wk.empty else np.nan\n",
    "    ratio_52wk = high_52wk / low_52wk if low_52wk > 0 else np.nan\n",
    "    \n",
    "    avg_vol_5d = df[\"volume\"].rolling(window=5, min_periods=1).mean().iloc[-1]\n",
    "    avg_vol_10d = df[\"volume\"].rolling(window=10, min_periods=1).mean().iloc[-1]\n",
    "    \n",
    "    df[\"returns\"] = df[\"close\"].pct_change()\n",
    "    beta_value = df[\"returns\"].cov(df[\"returns\"]) / df[\"returns\"].var() if df[\"returns\"].var() != 0 else np.nan\n",
    "    \n",
    "    def percentage_change(days):\n",
    "        if len(df) < days:\n",
    "            return np.nan\n",
    "        return ((df[\"close\"].iloc[-1] - df[\"close\"].iloc[-days]) / df[\"close\"].iloc[-days]) * 100\n",
    "    \n",
    "    percent_change = {\n",
    "        \"1 Day\": percentage_change(1),\n",
    "        \"5 Day\": percentage_change(5),\n",
    "        \"3 Months\": percentage_change(63),\n",
    "        \"6 Months\": percentage_change(126),\n",
    "        \"Month to Date\": percentage_change(df[df[\"time\"].dt.month == date.month].shape[0]),\n",
    "        \"Year to Date\": percentage_change(df[df[\"time\"].dt.year == date.year].shape[0]),\n",
    "    }\n",
    "    \n",
    "     # ANALYST OUTLOOK\n",
    "    analyst_ratings = {\n",
    "        \"Strong Buy\": np.random.randint(0, 5),\n",
    "        \"Buy\": np.random.randint(0, 5),\n",
    "        \"Hold\": np.random.randint(0, 5),\n",
    "        \"Sell\": np.random.randint(0, 5),\n",
    "        \"Strong Sell\": np.random.randint(0, 5),\n",
    "    }\n",
    "    total_votes = sum(analyst_ratings.values())\n",
    "    recommendation_score = (analyst_ratings[\"Strong Buy\"] * 1 +\n",
    "                            analyst_ratings[\"Buy\"] * 2 +\n",
    "                            analyst_ratings[\"Hold\"] * 3 +\n",
    "                            analyst_ratings[\"Sell\"] * 4 +\n",
    "                            analyst_ratings[\"Strong Sell\"] * 5) / total_votes if total_votes > 0 else np.nan\n",
    "    recommendation = \"Strong Buy\" if recommendation_score < 1.5 else \"Buy\" if recommendation_score < 2.5 else \"Hold\" if recommendation_score < 3.5 else \"Sell\" if recommendation_score < 4.5 else \"Strong Sell\"\n",
    "\n",
    "    return {\n",
    "        \"Symbol\": symbol,\n",
    "        \"Date\": date.strftime(\"%Y-%m-%d\"),\n",
    "        \"SHARE DETAIL\": {\n",
    "            \"52 Wk High / Low\": ratio_52wk,\n",
    "            \"5-day Avg Volume\": avg_vol_5d,\n",
    "            \"10-day Avg Volume\": avg_vol_10d,\n",
    "            \"Beta Value\": beta_value,\n",
    "            \"Shares Outstanding\": shares_outstanding\n",
    "        },\n",
    "        \"RATIO\": {\n",
    "            \"P/E (TTM)\": pe_ttm,\n",
    "            \"Dividend Yield (%)\": dividend_yield\n",
    "        },\n",
    "        \"Percentage Change\": percent_change,\n",
    "        \"ANALYST OUTLOOK\": {\n",
    "            \"Ratings\": analyst_ratings,\n",
    "            \"Recommendation Score\": recommendation_score,\n",
    "            \"Recommendation\": recommendation\n",
    "        }\n",
    "    }"
   ]
  },
  {
   "cell_type": "code",
   "execution_count": 118,
   "id": "31f5cdd5-b695-41fb-b077-8892bb93053d",
   "metadata": {},
   "outputs": [],
   "source": [
    "# Hàm tra cứu một mã chứng khoán vào một ngày cụ thể\n",
    "def lookup_stock(symbol, date):\n",
    "    date = pd.to_datetime(date)\n",
    "    if symbol not in symbol_list:\n",
    "        print(f\" Mã chứng khoán {symbol} không tồn tại trong danh sách!\")\n",
    "        return None\n",
    "    metrics = calculate_stock_metrics(symbol, date)\n",
    "    if metrics:\n",
    "        print(f\"Thông tin chứng khoán:\")\n",
    "        for key, value in metrics.items():\n",
    "            print(f\"{key}: {value}\")\n",
    "    else:\n",
    "        print(f\"Không tìm thấy dữ liệu cho ngày này.\")\n",
    "    return metrics"
   ]
  },
  {
   "cell_type": "code",
   "execution_count": 120,
   "id": "b054ff0e-eee8-4081-8928-1a825148283a",
   "metadata": {},
   "outputs": [
    {
     "name": "stderr",
     "output_type": "stream",
     "text": [
      "2025-03-08 16:27:31 - vnstock.common.data.data_explorer - WARNING - Thông tin niêm yết & giao dịch sẽ được truy xuất từ TCBS\n"
     ]
    },
    {
     "name": "stdout",
     "output_type": "stream",
     "text": [
      "Thông tin chứng khoán:\n",
      "Symbol: ACB\n",
      "Date: 2022-12-31\n",
      "SHARE DETAIL: {'52 Wk High / Low': 1.6666666666666665, '5-day Avg Volume': 1760118.6, '10-day Avg Volume': 2033972.0, 'Beta Value': 0.9999999999999984, 'Shares Outstanding': 3377435094.0}\n",
      "RATIO: {'P/E (TTM)': 6.1561819167, 'Dividend Yield (%)': 0.0400801603}\n",
      "Percentage Change: {'1 Day': 0.0, '5 Day': -0.9026434558349488, '3 Months': 5.346127484578474, '6 Months': -9.481743227326273, 'Month to Date': 5.346127484578474, 'Year to Date': -20.40393578456758}\n",
      "ANALYST OUTLOOK: {'Ratings': {'Strong Buy': 2, 'Buy': 1, 'Hold': 1, 'Sell': 3, 'Strong Sell': 3}, 'Recommendation Score': 3.4, 'Recommendation': 'Hold'}\n"
     ]
    },
    {
     "name": "stderr",
     "output_type": "stream",
     "text": [
      "Downcasting object dtype arrays on .fillna, .ffill, .bfill is deprecated and will change in a future version. Call result.infer_objects(copy=False) instead. To opt-in to the future behavior, set `pd.set_option('future.no_silent_downcasting', True)`\n"
     ]
    },
    {
     "data": {
      "text/plain": [
       "{'Symbol': 'ACB',\n",
       " 'Date': '2022-12-31',\n",
       " 'SHARE DETAIL': {'52 Wk High / Low': 1.6666666666666665,\n",
       "  '5-day Avg Volume': 1760118.6,\n",
       "  '10-day Avg Volume': 2033972.0,\n",
       "  'Beta Value': 0.9999999999999984,\n",
       "  'Shares Outstanding': 3377435094.0},\n",
       " 'RATIO': {'P/E (TTM)': 6.1561819167, 'Dividend Yield (%)': 0.0400801603},\n",
       " 'Percentage Change': {'1 Day': 0.0,\n",
       "  '5 Day': -0.9026434558349488,\n",
       "  '3 Months': 5.346127484578474,\n",
       "  '6 Months': -9.481743227326273,\n",
       "  'Month to Date': 5.346127484578474,\n",
       "  'Year to Date': -20.40393578456758},\n",
       " 'ANALYST OUTLOOK': {'Ratings': {'Strong Buy': 2,\n",
       "   'Buy': 1,\n",
       "   'Hold': 1,\n",
       "   'Sell': 3,\n",
       "   'Strong Sell': 3},\n",
       "  'Recommendation Score': 3.4,\n",
       "  'Recommendation': 'Hold'}}"
      ]
     },
     "execution_count": 120,
     "metadata": {},
     "output_type": "execute_result"
    }
   ],
   "source": [
    "# Chạy thử với một mã cổ phiếu\n",
    "lookup_stock(\"ACB\", \"2022-12-31\")"
   ]
  }
 ],
 "metadata": {
  "kernelspec": {
   "display_name": "Python 3 (ipykernel)",
   "language": "python",
   "name": "python3"
  },
  "language_info": {
   "codemirror_mode": {
    "name": "ipython",
    "version": 3
   },
   "file_extension": ".py",
   "mimetype": "text/x-python",
   "name": "python",
   "nbconvert_exporter": "python",
   "pygments_lexer": "ipython3",
   "version": "3.12.7"
  }
 },
 "nbformat": 4,
 "nbformat_minor": 5
}
