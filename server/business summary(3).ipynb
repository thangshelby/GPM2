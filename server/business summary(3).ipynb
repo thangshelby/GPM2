{
 "cells": [
  {
   "cell_type": "code",
   "execution_count": 16,
   "id": "3d78da4e-1a92-46eb-b545-ecb3d2c5bf3b",
   "metadata": {},
   "outputs": [],
   "source": [
    "import pandas as pd\n",
    "import numpy as np\n",
    "from vnstock import Vnstock"
   ]
  },
  {
   "cell_type": "code",
   "execution_count": 18,
   "id": "e10c30ce-c4d3-4567-b61a-0cda5ec613a9",
   "metadata": {},
   "outputs": [],
   "source": [
    "# Load danh sách mã cổ phiếu từ file Excel\n",
    "excel_file = r\"C:\\Users\\User\\Downloads\\merged_stocks.xlsx\"\n",
    "symbol_df = pd.read_excel(excel_file)\n",
    "\n",
    "# Chuyển đổi cột \"Mã\" thành danh sách mã chứng khoán\n",
    "symbol_list = symbol_df[\"Mã\"].tolist()"
   ]
  },
  {
   "cell_type": "code",
   "execution_count": 20,
   "id": "e11ff2a4-6348-4f0b-bd5a-ec0582dd0352",
   "metadata": {},
   "outputs": [],
   "source": [
    "# Hàm lấy dữ liệu chứng khoán từ Vnstock\n",
    "def get_stock_data(symbol, start_date=\"2020-01-01\", end_date=\"2024-12-31\"):\n",
    "    stock = Vnstock().stock(symbol=symbol, source=\"VCI\")\n",
    "    df = stock.quote.history(start=start_date, end=end_date, interval=\"1D\")\n",
    "    if df is not None and not df.empty:\n",
    "        df[\"time\"] = pd.to_datetime(df[\"time\"])  # Sửa từ \"date\" thành \"time\"\n",
    "        return df, stock\n",
    "    return None, None\n"
   ]
  },
  {
   "cell_type": "code",
   "execution_count": 22,
   "id": "33c435a4-362c-4557-b968-4d39680035ea",
   "metadata": {},
   "outputs": [],
   "source": [
    "\n",
    "# Hàm lấy dữ liệu tài chính từ finance.ratio()\n",
    "def get_finance_data(stock, symbol, date):\n",
    "    finance_data = stock.finance.ratio()\n",
    "    if finance_data.empty:\n",
    "        return np.nan, np.nan, np.nan\n",
    "    \n",
    "    year = date.year\n",
    "    quarter = (date.month - 1) // 3 + 1  # Xác định quý từ tháng\n",
    "    \n",
    "    finance_filtered = finance_data[\n",
    "        (finance_data[(\"Meta\", \"ticker\")] == symbol) &\n",
    "        (finance_data[(\"Meta\", \"yearReport\")] == year) &\n",
    "        (finance_data[(\"Meta\", \"lengthReport\")] == quarter)\n",
    "    ]\n",
    "    \n",
    "    if finance_filtered.empty:\n",
    "        return np.nan, np.nan, np.nan\n",
    "    \n",
    "    shares_outstanding = finance_filtered.get((\"Chỉ tiêu định giá\", \"Outstanding Share (Mil. Shares)\"), np.nan).values[-1]\n",
    "    pe_ttm = finance_filtered.get((\"Chỉ tiêu định giá\", \"P/E\"), np.nan).values[-1]\n",
    "    dividend_yield = finance_filtered.get((\"Chỉ tiêu khả năng sinh lợi\", \"Dividend yield (%)\"), np.nan).values[-1]\n",
    "    \n",
    "    return shares_outstanding, pe_ttm, dividend_yield\n"
   ]
  },
  {
   "cell_type": "code",
   "execution_count": 36,
   "id": "825e0ce6-66e5-44c4-aea8-7d20b01ae9c1",
   "metadata": {},
   "outputs": [],
   "source": [
    "# Hàm tính toán các chỉ số chứng khoán\n",
    "def calculate_stock_metrics(symbol, date):\n",
    "    df, stock = get_stock_data(symbol)\n",
    "    if df is None or df.empty:\n",
    "        return None\n",
    "\n",
    "    df = df[df[\"time\"] <= date]\n",
    "    if df.empty:\n",
    "        return None\n",
    "    \n",
    "    shares_outstanding, pe_ttm, dividend_yield = get_finance_data(stock, symbol, date)\n",
    "    \n",
    "    df_52wk = df[df[\"time\"] >= (date - pd.Timedelta(days=365))]\n",
    "    high_52wk = df_52wk[\"high\"].max() if not df_52wk.empty else np.nan\n",
    "    low_52wk = df_52wk[\"low\"].min() if not df_52wk.empty else np.nan\n",
    "    ratio_52wk = high_52wk / low_52wk if low_52wk > 0 else np.nan\n",
    "    \n",
    "    avg_vol_5d = df[\"volume\"].rolling(window=5, min_periods=1).mean().iloc[-1]\n",
    "    avg_vol_10d = df[\"volume\"].rolling(window=10, min_periods=1).mean().iloc[-1]\n",
    "    \n",
    "    df[\"returns\"] = df[\"close\"].pct_change()\n",
    "    beta_value = df[\"returns\"].cov(df[\"returns\"]) / df[\"returns\"].var() if df[\"returns\"].var() != 0 else np.nan\n",
    "    \n",
    "    def percentage_change(days):\n",
    "        if len(df) < days:\n",
    "            return np.nan\n",
    "        return ((df[\"close\"].iloc[-1] - df[\"close\"].iloc[-days]) / df[\"close\"].iloc[-days]) * 100\n",
    "    \n",
    "    percent_change = {\n",
    "        \"1 Day\": percentage_change(1),\n",
    "        \"5 Day\": percentage_change(5),\n",
    "        \"3 Months\": percentage_change(63),\n",
    "        \"6 Months\": percentage_change(126),\n",
    "        \"Month to Date\": percentage_change(df[df[\"time\"].dt.month == date.month].shape[0]),\n",
    "        \"Year to Date\": percentage_change(df[df[\"time\"].dt.year == date.year].shape[0]),\n",
    "    }\n",
    "    \n",
    "    # ANALYST OUTLOOK\n",
    "    analyst_score = 0\n",
    "\n",
    "    # Điểm P/E\n",
    "    if pe_ttm < 10:\n",
    "        analyst_score += 2\n",
    "    elif 10 <= pe_ttm < 20:\n",
    "        analyst_score += 1\n",
    "    else:\n",
    "        analyst_score -= 1\n",
    "\n",
    "    # Điểm Dividend Yield\n",
    "    if dividend_yield > 3:\n",
    "        analyst_score += 2\n",
    "    elif 1 <= dividend_yield <= 3:\n",
    "        analyst_score += 1\n",
    "\n",
    "    # Điểm Beta\n",
    "    if beta_value < 1:\n",
    "        analyst_score += 1\n",
    "    elif beta_value > 1.5:\n",
    "        analyst_score -= 1\n",
    "\n",
    "    # Điểm Biến động giá\n",
    "    if percent_change[\"1 Day\"] > 10 and percent_change[\"5 Day\"] > 10 and percent_change[\"3 Months\"] > 10 and percent_change[\"Year to Date\"] > 15:\n",
    "        analyst_score += 4\n",
    "    elif percent_change[\"1 Day\"] > 5 and percent_change[\"5 Day\"] > 5 and percent_change[\"3 Months\"] > 5 and percent_change[\"Year to Date\"] > 10:\n",
    "        analyst_score += 3\n",
    "    elif -5 <= percent_change[\"1 Day\"] <= 5 and -10 <= percent_change[\"3 Months\"] <= 10 and -15 <= percent_change[\"Year to Date\"] <= 15:\n",
    "        analyst_score += 0\n",
    "    elif percent_change[\"1 Day\"] < -5 and percent_change[\"5 Day\"] < -5 and percent_change[\"Year to Date\"] < -10:\n",
    "        analyst_score -= 2\n",
    "    elif percent_change[\"1 Day\"] < -10 and percent_change[\"3 Months\"] < -10 and percent_change[\"Year to Date\"] < -15:\n",
    "        analyst_score -= 4\n",
    "\n",
    "    # Phân loại khuyến nghị\n",
    "    if analyst_score >= 5:\n",
    "        recommendation = \"Strong Buy\"\n",
    "    elif analyst_score >= 3:\n",
    "        recommendation = \"Buy\"\n",
    "    elif analyst_score >= 1:\n",
    "        recommendation = \"Hold\"\n",
    "    elif analyst_score >= -1:\n",
    "        recommendation = \"Sell\"\n",
    "    else:\n",
    "        recommendation = \"Strong Sell\"\n",
    "\n",
    "    return {\n",
    "        \"Symbol\": symbol,\n",
    "        \"Date\": date.strftime(\"%Y-%m-%d\"),\n",
    "        \"SHARE DETAIL\": {\n",
    "            \"52 Wk High / Low\": ratio_52wk,\n",
    "            \"5-day Avg Volume\": avg_vol_5d,\n",
    "            \"10-day Avg Volume\": avg_vol_10d,\n",
    "            \"Beta Value\": beta_value,\n",
    "            \"Shares Outstanding\": shares_outstanding\n",
    "        },\n",
    "        \"RATIO\": {\n",
    "            \"P/E (TTM)\": pe_ttm,\n",
    "            \"Dividend Yield (%)\": dividend_yield\n",
    "        },\n",
    "        \"Percentage Change\": percent_change,\n",
    "        \"ANALYST OUTLOOK\": {\n",
    "            \"Score\": analyst_score,\n",
    "            \"Recommendation\": recommendation\n",
    "        }\n",
    "    }\n"
   ]
  },
  {
   "cell_type": "code",
   "execution_count": 38,
   "id": "31f5cdd5-b695-41fb-b077-8892bb93053d",
   "metadata": {},
   "outputs": [],
   "source": [
    "# Hàm tra cứu một mã chứng khoán vào một ngày cụ thể\n",
    "def lookup_stock(symbol, date):\n",
    "    date = pd.to_datetime(date)\n",
    "    if symbol not in symbol_list:\n",
    "        print(f\" Mã chứng khoán {symbol} không tồn tại trong danh sách!\")\n",
    "        return None\n",
    "    metrics = calculate_stock_metrics(symbol, date)\n",
    "    if metrics:\n",
    "        print(f\"Thông tin chứng khoán:\")\n",
    "        for key, value in metrics.items():\n",
    "            print(f\"{key}: {value}\")\n",
    "    else:\n",
    "        print(f\"Không tìm thấy dữ liệu cho ngày này.\")\n",
    "    return metrics"
   ]
  },
  {
   "cell_type": "code",
   "execution_count": 42,
   "id": "b054ff0e-eee8-4081-8928-1a825148283a",
   "metadata": {},
   "outputs": [
    {
     "name": "stderr",
     "output_type": "stream",
     "text": [
      "2025-03-11 17:28:14 - vnstock.common.data.data_explorer - WARNING - Thông tin niêm yết & giao dịch sẽ được truy xuất từ TCBS\n"
     ]
    },
    {
     "name": "stdout",
     "output_type": "stream",
     "text": [
      "Thông tin chứng khoán:\n",
      "Symbol: VCB\n",
      "Date: 2022-12-31\n",
      "SHARE DETAIL: {'52 Wk High / Low': 1.5481904761904761, '5-day Avg Volume': 1237678.4, '10-day Avg Volume': 1148936.7, 'Beta Value': 1.0000000000000009, 'Shares Outstanding': 4732516571}\n",
      "RATIO: {'P/E (TTM)': 13.9922493977, 'Dividend Yield (%)': 0.0}\n",
      "Percentage Change: {'1 Day': 0.0, '5 Day': 1.4071856287425115, '3 Months': 11.892963330029724, '6 Months': 9.896171317326402, 'Month to Date': 6.677165354330701, 'Year to Date': 1.2707430109134314}\n",
      "ANALYST OUTLOOK: {'Score': 1, 'Recommendation': 'Hold'}\n"
     ]
    },
    {
     "name": "stderr",
     "output_type": "stream",
     "text": [
      "Downcasting object dtype arrays on .fillna, .ffill, .bfill is deprecated and will change in a future version. Call result.infer_objects(copy=False) instead. To opt-in to the future behavior, set `pd.set_option('future.no_silent_downcasting', True)`\n"
     ]
    },
    {
     "data": {
      "text/plain": [
       "{'Symbol': 'VCB',\n",
       " 'Date': '2022-12-31',\n",
       " 'SHARE DETAIL': {'52 Wk High / Low': 1.5481904761904761,\n",
       "  '5-day Avg Volume': 1237678.4,\n",
       "  '10-day Avg Volume': 1148936.7,\n",
       "  'Beta Value': 1.0000000000000009,\n",
       "  'Shares Outstanding': 4732516571},\n",
       " 'RATIO': {'P/E (TTM)': 13.9922493977, 'Dividend Yield (%)': 0.0},\n",
       " 'Percentage Change': {'1 Day': 0.0,\n",
       "  '5 Day': 1.4071856287425115,\n",
       "  '3 Months': 11.892963330029724,\n",
       "  '6 Months': 9.896171317326402,\n",
       "  'Month to Date': 6.677165354330701,\n",
       "  'Year to Date': 1.2707430109134314},\n",
       " 'ANALYST OUTLOOK': {'Score': 1, 'Recommendation': 'Hold'}}"
      ]
     },
     "execution_count": 42,
     "metadata": {},
     "output_type": "execute_result"
    }
   ],
   "source": [
    "# Chạy thử với một mã cổ phiếu\n",
    "lookup_stock(\"VCB\", \"2022-12-31\")"
   ]
  },
  {
   "cell_type": "code",
   "execution_count": null,
   "id": "8b8c9499-64bd-425f-9187-2e7880663c0b",
   "metadata": {},
   "outputs": [],
   "source": []
  }
 ],
 "metadata": {
  "kernelspec": {
   "display_name": "Python 3 (ipykernel)",
   "language": "python",
   "name": "python3"
  },
  "language_info": {
   "codemirror_mode": {
    "name": "ipython",
    "version": 3
   },
   "file_extension": ".py",
   "mimetype": "text/x-python",
   "name": "python",
   "nbconvert_exporter": "python",
   "pygments_lexer": "ipython3",
   "version": "3.12.7"
  }
 },
 "nbformat": 4,
 "nbformat_minor": 5
}
